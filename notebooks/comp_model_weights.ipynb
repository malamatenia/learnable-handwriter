{
 "cells": [
  {
   "cell_type": "code",
   "execution_count": 11,
   "id": "d3f5da96",
   "metadata": {},
   "outputs": [
    {
     "ename": "KeyError",
     "evalue": "'model_state'",
     "output_type": "error",
     "traceback": [
      "\u001b[0;31m---------------------------------------------------------------------------\u001b[0m",
      "\u001b[0;31mKeyError\u001b[0m                                  Traceback (most recent call last)",
      "Cell \u001b[0;32mIn[11], line 11\u001b[0m\n\u001b[1;32m      8\u001b[0m parent_model_path \u001b[38;5;241m=\u001b[39m \u001b[38;5;124m\"\u001b[39m\u001b[38;5;124m/home/vlachoum/learnable-scriber/finetune_runs/textualis-ft/textualis-g_theta-350epochs/models/Arras-861.pth\u001b[39m\u001b[38;5;124m\"\u001b[39m\n\u001b[1;32m      9\u001b[0m parent_model_path_2 \u001b[38;5;241m=\u001b[39m \u001b[38;5;124m\"\u001b[39m\u001b[38;5;124m/home/vlachoum/learnable-scriber/finetune_runs/textualis-ft/textualis-g_theta-350epochs/models/btv1b6000108b.pth\u001b[39m\u001b[38;5;124m\"\u001b[39m\n\u001b[0;32m---> 11\u001b[0m key_map1 \u001b[38;5;241m=\u001b[39m \u001b[43mtorch\u001b[49m\u001b[38;5;241;43m.\u001b[39;49m\u001b[43mload\u001b[49m\u001b[43m(\u001b[49m\u001b[43mparent_model_path\u001b[49m\u001b[43m,\u001b[49m\u001b[43m \u001b[49m\u001b[43mmap_location\u001b[49m\u001b[38;5;241;43m=\u001b[39;49m\u001b[38;5;124;43m'\u001b[39;49m\u001b[38;5;124;43mcpu\u001b[39;49m\u001b[38;5;124;43m'\u001b[39;49m\u001b[43m)\u001b[49m\u001b[43m[\u001b[49m\u001b[38;5;124;43m'\u001b[39;49m\u001b[38;5;124;43mmodel_state\u001b[39;49m\u001b[38;5;124;43m'\u001b[39;49m\u001b[43m]\u001b[49m\n\u001b[1;32m     12\u001b[0m key_map2 \u001b[38;5;241m=\u001b[39m torch\u001b[38;5;241m.\u001b[39mload(parent_model_path_2, map_location\u001b[38;5;241m=\u001b[39m\u001b[38;5;124m'\u001b[39m\u001b[38;5;124mcpu\u001b[39m\u001b[38;5;124m'\u001b[39m)[\u001b[38;5;124m'\u001b[39m\u001b[38;5;124mmodel_state\u001b[39m\u001b[38;5;124m'\u001b[39m]\n\u001b[1;32m     13\u001b[0m \u001b[38;5;28;01massert\u001b[39;00m \u001b[38;5;28mlen\u001b[39m(locate_changed_keys(key_map1, key_map2)) \u001b[38;5;241m==\u001b[39m \u001b[38;5;241m0\u001b[39m\n",
      "\u001b[0;31mKeyError\u001b[0m: 'model_state'"
     ]
    }
   ],
   "source": [
    "import torch\n",
    "\n",
    "def locate_changed_keys(a, b):\n",
    "    return [k for k in a.keys() if k in b.keys() and not torch.equal(a[k], b[k])]\n",
    "\n",
    "if __name__ == \"__main__\":\n",
    "    # Provide the paths to the model checkpoints\n",
    "    parent_model_path = \"/home/vlachoum/learnable-scriber/finetune_runs/textualis-ft/textualis-g_theta-350epochs/models/Arras-861.pth\"\n",
    "    parent_model_path_2 = \"/home/vlachoum/learnable-scriber/finetune_runs/textualis-ft/textualis-g_theta-350epochs/models/btv1b6000108b.pth\"\n",
    "\n",
    "    key_map1 = torch.load(parent_model_path, map_location='cpu')['model_state']\n",
    "    key_map2 = torch.load(parent_model_path_2, map_location='cpu')\n",
    "    assert len(locate_changed_keys(key_map1, key_map2)) == 0\n",
    "\n",
    "    print(locate_changed_keys(key_map1, key_map2))"
   ]
  },
  {
   "cell_type": "code",
   "execution_count": null,
   "id": "11f4f9d6",
   "metadata": {},
   "outputs": [],
   "source": []
  }
 ],
 "metadata": {
  "kernelspec": {
   "display_name": "Python 3 (ipykernel)",
   "language": "python",
   "name": "python3"
  },
  "language_info": {
   "codemirror_mode": {
    "name": "ipython",
    "version": 3
   },
   "file_extension": ".py",
   "mimetype": "text/x-python",
   "name": "python",
   "nbconvert_exporter": "python",
   "pygments_lexer": "ipython3",
   "version": "3.10.10"
  }
 },
 "nbformat": 4,
 "nbformat_minor": 5
}
